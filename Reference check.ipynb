{
 "cells": [
  {
   "cell_type": "code",
   "execution_count": 1,
   "metadata": {},
   "outputs": [],
   "source": [
    "import pandas as pd\n",
    "\n",
    "import docx"
   ]
  },
  {
   "cell_type": "code",
   "execution_count": 138,
   "metadata": {},
   "outputs": [],
   "source": [
    "doc = docx.Document('Test.docx')"
   ]
  },
  {
   "cell_type": "code",
   "execution_count": 125,
   "metadata": {},
   "outputs": [
    {
     "data": {
      "text/plain": [
       "<docx.text.paragraph.Paragraph at 0x26ded200c50>"
      ]
     },
     "execution_count": 125,
     "metadata": {},
     "output_type": "execute_result"
    }
   ],
   "source": [
    "\"\"\"\n",
    "The function finds all the references that were in brackets and returns a list of all the references\n",
    "\"\"\"\n",
    "\n",
    "def references_in_brackets(par):\n",
    "    \n",
    "    par_clean = par.replace(')',';').replace('(',';').replace('al.','al').replace('.',';').split(\";\")\n",
    "    reference_list = []\n",
    "    for txt in par_clean:\n",
    "        if len(txt)>5:\n",
    "            if txt[0]==\" \": txt = txt[1:]\n",
    "            if txt[0]==\" \": txt = txt[1:]\n",
    "            if txt[-2].isnumeric():\n",
    "                reference_list.append(txt)\n",
    "    return reference_list\n",
    "\n",
    "\n",
    "\"\"\"\n",
    "The function finds all the references in the text \n",
    "\"\"\"\n",
    "\n",
    "def in_text_references(par):\n",
    "    par1= par.replace(\".\",\")\").replace(\";\",\")\").replace(\"(\",\",\").split(\")\")\n",
    "    reference_list = []\n",
    "    for txt in par1:\n",
    "        if len(txt)<40 and len(txt)>5:\n",
    "            if txt[0]==\" \": txt = txt[1:]\n",
    "            if txt[0]==\" \": txt = txt[1:]\n",
    "            if txt[-2].isnumeric() and txt[0].isupper():\n",
    "                reference_list.append(txt)\n",
    "    return reference_list"
   ]
  },
  {
   "cell_type": "code",
   "execution_count": 177,
   "metadata": {},
   "outputs": [
    {
     "data": {
      "text/plain": [
       "[None,\n",
       " None,\n",
       " None,\n",
       " None,\n",
       " None,\n",
       " None,\n",
       " None,\n",
       " None,\n",
       " None,\n",
       " None,\n",
       " None,\n",
       " None,\n",
       " None,\n",
       " None,\n",
       " None,\n",
       " None,\n",
       " None,\n",
       " None,\n",
       " None,\n",
       " None,\n",
       " None,\n",
       " None,\n",
       " None,\n",
       " None,\n",
       " None,\n",
       " None,\n",
       " None,\n",
       " None,\n",
       " None,\n",
       " None,\n",
       " None,\n",
       " None,\n",
       " None,\n",
       " None,\n",
       " None,\n",
       " None,\n",
       " None,\n",
       " None,\n",
       " None,\n",
       " None,\n",
       " None,\n",
       " None,\n",
       " None,\n",
       " None,\n",
       " None,\n",
       " None,\n",
       " None,\n",
       " None,\n",
       " None,\n",
       " None,\n",
       " None,\n",
       " None,\n",
       " None,\n",
       " None,\n",
       " None,\n",
       " None,\n",
       " None,\n",
       " None,\n",
       " None,\n",
       " None,\n",
       " None,\n",
       " None,\n",
       " None,\n",
       " None,\n",
       " None]"
      ]
     },
     "execution_count": 177,
     "metadata": {},
     "output_type": "execute_result"
    }
   ],
   "source": [
    "bibliography = []\n",
    "#creates a list of all the references\n",
    "for paragraph in doc.paragraphs:\n",
    "    paragraph_text = paragraph.text\n",
    "    bracket_reference = references_in_brackets(paragraph_text)\n",
    "    in_text = in_text_references(paragraph_text)\n",
    "    if bracket_reference != []:\n",
    "        for author in bracket_reference:\n",
    "            bibliography.append(author)\n",
    "    if in_text!= []: \n",
    "        for author in in_text:\n",
    "            bibliography.append(author)\n",
    "\n",
    "#removes all the duplicates in the list            \n",
    "res = [] \n",
    "[res.append(x) for x in bibliography if x not in res] \n",
    "\n",
    "#creates a df of the bibliography\n",
    "df = pd.DataFrame(columns = ['author','year'])\n",
    "print(df)\n",
    "for author in res:\n",
    "    #some et al references were missing a comma and hence those couldn't be split with a comma\n",
    "    author = author.replace(\"al \",\"al,\")\n",
    "    author = author.split(\",\")\n",
    "    #in most cases the object could be split to author and year \n",
    "    #but sometimes there is a word such as besides, infront so then I take only the last two parts\n",
    "    if len(author) == 2:\n",
    "        df = df.append({'author': author[0],'year': author[1]}, ignore_index= True)\n",
    "\n",
    "    else:\n",
    "        df = df.append({'author': author[len(author)-2],'year': author[len(author)-1]}, ignore_index= True)\n",
    "\n",
    "df.sort_values(\"author\", inplace = True)\n",
    "\n",
    "df.to_excel(\"references.xlsx\")"
   ]
  },
  {
   "cell_type": "code",
   "execution_count": 173,
   "metadata": {},
   "outputs": [],
   "source": [
    "\"\"\"\n",
    "The function finds all the references that were in brackets and returns a list of all the references\n",
    "\"\"\"\n",
    "\n",
    "def references_in_brackets(par):\n",
    "    \n",
    "    par_clean = par.replace(')',';').replace('(',';').replace('al.','al').replace('.',';').split(\";\")\n",
    "    reference_list = []\n",
    "    for txt in par_clean:\n",
    "        if len(txt)>5:\n",
    "            if txt[0]==\" \": txt = txt[1:]\n",
    "            if txt[0]==\" \": txt = txt[1:]\n",
    "            if txt[-2].isnumeric():\n",
    "                reference_list.append(txt)\n",
    "    return reference_list\n",
    "\n",
    "\n",
    "\"\"\"\n",
    "The function finds all the references in the text \n",
    "\"\"\"\n",
    "\n",
    "def in_text_references(par):\n",
    "    par1= par.replace(\".\",\")\").replace(\";\",\")\").replace(\"(\",\",\").split(\")\")\n",
    "    reference_list = []\n",
    "    for txt in par1:\n",
    "        if len(txt)<40 and len(txt)>5:\n",
    "            if txt[0]==\" \": txt = txt[1:]\n",
    "            if txt[0]==\" \": txt = txt[1:]\n",
    "            if txt[-2].isnumeric() and txt[0].isupper():\n",
    "                reference_list.append(txt)\n",
    "    return reference_list"
   ]
  },
  {
   "cell_type": "code",
   "execution_count": null,
   "metadata": {},
   "outputs": [],
   "source": []
  },
  {
   "cell_type": "code",
   "execution_count": null,
   "metadata": {},
   "outputs": [],
   "source": []
  }
 ],
 "metadata": {
  "kernelspec": {
   "display_name": "Python 3",
   "language": "python",
   "name": "python3"
  },
  "language_info": {
   "codemirror_mode": {
    "name": "ipython",
    "version": 3
   },
   "file_extension": ".py",
   "mimetype": "text/x-python",
   "name": "python",
   "nbconvert_exporter": "python",
   "pygments_lexer": "ipython3",
   "version": "3.6.4"
  }
 },
 "nbformat": 4,
 "nbformat_minor": 2
}
